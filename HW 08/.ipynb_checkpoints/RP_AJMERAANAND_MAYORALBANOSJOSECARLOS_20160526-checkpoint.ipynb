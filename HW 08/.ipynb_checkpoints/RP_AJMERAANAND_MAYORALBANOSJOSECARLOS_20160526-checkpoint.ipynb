{
 "cells": [
  {
   "cell_type": "code",
   "execution_count": 1,
   "metadata": {
    "collapsed": true
   },
   "outputs": [],
   "source": [
    "import numpy as np\n",
    "from scipy.ndimage import imread\n",
    "from PIL import Image"
   ]
  },
  {
   "cell_type": "code",
   "execution_count": 33,
   "metadata": {
    "collapsed": true
   },
   "outputs": [],
   "source": [
    "def get_simMatrix(X):\n",
    "    centroid = np.mean(X, axis=0)\n",
    "    x_normalized = X - centroid\n",
    "    s = np.sqrt(2)/np.mean(np.sqrt(np.sum(x_normalized**2, axis=1)))\n",
    "    x_normalized = x_normalized * s\n",
    "    x_normalized = make_homog(x_normalized)\n",
    "    sim_matrix= np.array([[s, 0, -s * centroid[0]],[0, s, -s * centroid[1]],[0, 0, 1]])\n",
    "    return (sim_matrix, x_normalized)\n",
    "\n",
    "def make_homog(x):\n",
    "    return np.append(x, np.ones((len(x), 1)), axis=1)"
   ]
  },
  {
   "cell_type": "code",
   "execution_count": 153,
   "metadata": {
    "collapsed": false
   },
   "outputs": [],
   "source": [
    "def estimateFundamentalMatrix(inlierPts1, inlierPts2):\n",
    "    #Slide 53 04-MultipleView\n",
    "    \n",
    "    #Normalization through a similarity Matrix\n",
    "    simMatrix1, inliersPts1_Normalized = get_simMatrix(inlierPts1)\n",
    "    simMatrix2, inliersPts2_Normalized = get_simMatrix(inlierPts2)\n",
    "    \n",
    "    #Linear Solution\n",
    "    assert inliersPts1_Normalized.shape == inliersPts1_Normalized.shape\n",
    "    number_elements = len(inliersPts1_Normalized)\n",
    "    \n",
    "    inliersPts1_Normalized = inliersPts1_Normalized.reshape(number_elements,3)\n",
    "    inliersPts2_Normalized = inliersPts2_Normalized.reshape(number_elements,3)\n",
    "        \n",
    "    # Construct matrix A in equation A.H = 0\n",
    "    zero = np.zeros(3)\n",
    "    A1= zero\n",
    "    A1= np.append(A1, - inliersPts2_Normalized[0][2]*inliersPts1_Normalized[0])\n",
    "    A1= np.append(A1,   inliersPts2_Normalized[0][1]*inliersPts1_Normalized[0])\n",
    "    A1= A1.reshape(1, len(A1))\n",
    "    A2 = inliersPts2_Normalized[0][2]*inliersPts1_Normalized[0]\n",
    "    A2 = np.append(A2,   zero)\n",
    "    A2 = np.append(A2, - inliersPts2_Normalized[0][0]*inliersPts1_Normalized[0])\n",
    "    A2 = A2.reshape(1, len(A2))    \n",
    "    \n",
    "    A = A1\n",
    "    A = np.append(A, A2, axis=0)\n",
    "    \n",
    "    for i in range(1,number_elements):\n",
    "        \n",
    "        A1= zero\n",
    "        A1= np.append(A1, - inliersPts2_Normalized[i][2]*inliersPts1_Normalized[i])\n",
    "        A1= np.append(A1,   inliersPts2_Normalized[i][1]*inliersPts1_Normalized[i])\n",
    "        A1= A1.reshape(1, len(A1))\n",
    "           \n",
    "        \n",
    "        A2 = inliersPts2_Normalized[i][2]*inliersPts1_Normalized[i]\n",
    "        A2 = np.append(A2,   zero)\n",
    "        A2 = np.append(A2, - inliersPts2_Normalized[i][0]*inliersPts1_Normalized[i])\n",
    "        A2 = A2.reshape(1, len(A2))\n",
    "        \n",
    "        A = np.append(A, A1, axis=0)\n",
    "        A = np.append(A, A2, axis=0)\n",
    "    \n",
    "    A = np.array(A)\n",
    "    \n",
    "    U, S, V = np.linalg.svd(A, full_matrices=False)\n",
    "    hat_F = V[np.argmin(S)].reshape(3, 3)\n",
    "    hat_F= hat_F/hat_F[2][2]\n",
    "    \n",
    "    print \"Linear solution\\n\", hat_F\n",
    "    \n",
    "    #Singularity Enforcement\n",
    "    \n",
    "    for i in range(3,number_elements*2):\n",
    "        \n",
    "        U, S, V = np.linalg.svd(A[:i], full_matrices=True)\n",
    "        hat_F_tick = V[np.argmin(S)].reshape(3, 3)\n",
    "        hat_F_tick = hat_F_tick/hat_F_tick[2][2]\n",
    "        \n",
    "        if abs(np.linalg.det(hat_F_tick)) <= 0.01:\n",
    "            print np.linalg.det(hat_F_tick)\n",
    "            print \"Number of Lines: \", i\n",
    "            break;\n",
    "    \n",
    "    print \"Singularity Reinforcement\\n\", hat_F_tick\n",
    "    \n",
    "    \n",
    "    #Denormalization\n",
    "    \n",
    "    F = np.dot(simMatrix2,np.dot(hat_F_tick,simMatrix1))\n",
    "    \n",
    "    print \"Denormalization\\n\", F\n",
    "    \n",
    "    return F"
   ]
  },
  {
   "cell_type": "code",
   "execution_count": 4,
   "metadata": {
    "collapsed": false
   },
   "outputs": [
    {
     "name": "stdout",
     "output_type": "stream",
     "text": [
      "Done\n"
     ]
    }
   ],
   "source": [
    "path = '/home/jose/Dropbox/MAS/Semester_2/Robot Perception/HW/HW 08/FMatriximages/FMatriximages/'\n",
    "img1 = Image.open(path+str(1)+'/IMG_0350-stereo.jpg')\n",
    "\n",
    "homography = open(path+str(7)+'/FMatrixCorrPointsStereo.txt').readlines()\n",
    "\n",
    "#Get number of lines of correspondences points points\n",
    "left_start = homography.index(\">> inlierPtsL.Location\\n\")\n",
    "right_start = homography.index(\">> inlierPtsR.Location\\n\")\n",
    "\n",
    "#Separate textfile\n",
    "L_correspondences = homography[left_start+4:right_start-1]\n",
    "R_correspondences = homography[right_start+4:len(homography)]\n",
    "\n",
    "#Replace Spaces by ;\n",
    "L_correspondences = ([i.replace('        ',';').split(';') for i in L_correspondences])\n",
    "R_correspondences = ([i.replace('        ',';').split(';') for i in R_correspondences])\n",
    "\n",
    "#pop first space\n",
    "for i in L_correspondences:\n",
    "    i.pop(i.index(''))\n",
    "\n",
    "#pop first space second points\n",
    "for i in R_correspondences:\n",
    "    i.pop(i.index(''))\n",
    "\n",
    "#Delete chomp\n",
    "for i in L_correspondences:\n",
    "    i[1].rstrip()\n",
    "\n",
    "#Delete chomp second points\n",
    "for i in R_correspondences:\n",
    "    i[1].rstrip()\n",
    "\n",
    "#str to float\n",
    "for i in L_correspondences:\n",
    "    i[0] = float(i[0])\n",
    "    i[1] = float(i[1])\n",
    "\n",
    "#str to float second points\n",
    "for i in R_correspondences:\n",
    "    i[0] = float(i[0])\n",
    "    i[1] = float(i[1])\n",
    "\n",
    "#Np Arrays\n",
    "inlierPts1 = np.asarray((L_correspondences))\n",
    "inlierPts2 = np.asarray((R_correspondences))\n",
    "\n",
    "assert inlierPts1.shape == inlierPts2.shape\n",
    "print \"Done\"\n",
    "\n"
   ]
  },
  {
   "cell_type": "code",
   "execution_count": 154,
   "metadata": {
    "collapsed": false
   },
   "outputs": [
    {
     "name": "stdout",
     "output_type": "stream",
     "text": [
      "Linear solution\n",
      "[[ 1.00441046  0.0465132  -0.02500951]\n",
      " [ 0.00200241  1.00966121  0.0101942 ]\n",
      " [-0.01584144  0.00641556  1.        ]]\n",
      "-4.10030780842e-16\n",
      "Number of Lines:  3\n",
      "Singularity Reinforcement\n",
      "[[ 0.08239813  0.0224019   0.13046809]\n",
      " [ 7.23132667 -1.06779569 -3.04961479]\n",
      " [-1.15269672  0.2777314   1.        ]]\n",
      "Denormalization\n",
      "[[  2.52255990e-02  -6.07596399e-03  -1.38404575e+01]\n",
      " [  1.54514693e-02  -3.69245878e-03  -8.46536749e+00]\n",
      " [ -7.72842723e-03   1.86209162e-03   4.24058055e+00]]\n"
     ]
    }
   ],
   "source": [
    "fNorm8Point = estimateFundamentalMatrix(inlierPts1, inlierPts2)"
   ]
  }
 ],
 "metadata": {
  "kernelspec": {
   "display_name": "Python 2",
   "language": "python",
   "name": "python2"
  },
  "language_info": {
   "codemirror_mode": {
    "name": "ipython",
    "version": 2
   },
   "file_extension": ".py",
   "mimetype": "text/x-python",
   "name": "python",
   "nbconvert_exporter": "python",
   "pygments_lexer": "ipython2",
   "version": "2.7.11"
  }
 },
 "nbformat": 4,
 "nbformat_minor": 0
}
