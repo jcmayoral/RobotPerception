{
 "cells": [
  {
   "cell_type": "markdown",
   "metadata": {},
   "source": [
    "# Author : Anand Ajmera, Jose Carlos Mayoral Banos\n"
   ]
  },
  {
   "cell_type": "code",
   "execution_count": 96,
   "metadata": {
    "collapsed": false
   },
   "outputs": [],
   "source": [
    "import numpy as np\n",
    "import cv2\n",
    "import scipy.spatial\n",
    "import os,sys\n",
    "import PIL.Image\n",
    "import scipy.spatial.distance\n",
    "import matplotlib.pyplot as plt"
   ]
  },
  {
   "cell_type": "code",
   "execution_count": 39,
   "metadata": {
    "collapsed": false
   },
   "outputs": [
    {
     "data": {
      "text/plain": [
       "(14, 3)"
      ]
     },
     "execution_count": 39,
     "metadata": {},
     "output_type": "execute_result"
    }
   ],
   "source": [
    "data = np.genfromtxt('/home/anand/Studies/SEM2/Robot_Perception/Week9/PGPShelf/PGPShelf/shelf0straightwithLinesPoints.csv',delimiter=',')\n",
    "\n",
    "data.shape"
   ]
  },
  {
   "cell_type": "code",
   "execution_count": 33,
   "metadata": {
    "collapsed": false
   },
   "outputs": [],
   "source": [
    "jpgfile = PIL.Image.open(\"/home/anand/Studies/SEM2/Robot_Perception/Week9/PGPShelf/PGPShelf/shelf0straightwithLines.jpg\")\n",
    "img_data = np.array(PIL.Image.open(\"/home/anand/Studies/SEM2/Robot_Perception/Week9/PGPShelf/PGPShelf/shelf0straightwithLines.jpg\"))\n"
   ]
  },
  {
   "cell_type": "code",
   "execution_count": 43,
   "metadata": {
    "collapsed": false
   },
   "outputs": [
    {
     "data": {
      "text/plain": [
       "array([[  156.,   156.],\n",
       "       [ 3067.,    97.],\n",
       "       [ 3074.,   115.],\n",
       "       [ 3044.,  1491.],\n",
       "       [ 2285.,  1815.],\n",
       "       [  899.,  1798.],\n",
       "       [ 2289.,  1420.],\n",
       "       [  890.,  1416.],\n",
       "       [  155.,  1119.],\n",
       "       [  188.,  2418.],\n",
       "       [  220.,  1784.],\n",
       "       [  180.,   323.],\n",
       "       [  824.,  1048.],\n",
       "       [ 2369.,  1048.]])"
      ]
     },
     "execution_count": 43,
     "metadata": {},
     "output_type": "execute_result"
    }
   ],
   "source": [
    "new_data = data[:,1:3]\n",
    "new_data\n"
   ]
  },
  {
   "cell_type": "code",
   "execution_count": 84,
   "metadata": {
    "collapsed": false
   },
   "outputs": [],
   "source": [
    "# Given points\n",
    "b1 = new_data[10,:]\n",
    "t1 = new_data[11,:]\n",
    "b2 = new_data[4,:]\n",
    "t2 = new_data[6,:]\n",
    "h_p1 = new_data[12,:]\n",
    "h_p2 = new_data[13,:]\n"
   ]
  },
  {
   "cell_type": "code",
   "execution_count": 3,
   "metadata": {
    "collapsed": true
   },
   "outputs": [],
   "source": [
    "def make_homog(point):\n",
    "    if(len(point) == 2):\n",
    "        return np.append(point,[1])\n",
    "    elif(len(point) == 3):\n",
    "        point = np.array(point,dtype=float)\n",
    "        point = point/point[-1]\n",
    "        return point\n",
    "    else:\n",
    "        print \"Unknown size of point \" , point\n",
    "        return -1\n",
    "\n"
   ]
  },
  {
   "cell_type": "code",
   "execution_count": 85,
   "metadata": {
    "collapsed": true
   },
   "outputs": [],
   "source": [
    "m = make_homog\n",
    "\n",
    "b1_ = m(b1)\n",
    "t1_ = m(t1)\n",
    "\n",
    "b2_ = m(b2)\n",
    "t2_ = m(t2)\n",
    "\n",
    "h_p1_ = m(h_p1)\n",
    "h_p2_ = m(h_p2)\n",
    "\n",
    "def distance_from_b2(point,second_point = b2_):\n",
    "    return np.array([scipy.spatial.distance.euclidean(point[0:2],second_point[0:2]),1])"
   ]
  },
  {
   "cell_type": "code",
   "execution_count": 105,
   "metadata": {
    "collapsed": false
   },
   "outputs": [
    {
     "name": "stdout",
     "output_type": "stream",
     "text": [
      "l :  [  0.00000000e+00  -9.54198473e-04   1.00000000e+00]\n",
      "l_b1_b2 :  [  8.43046498e-06  -5.61577748e-04   1.00000000e+00]\n",
      "U at infinity is :  [ -4.88070968e+04   1.04800000e+03   1.00000000e+00]\n",
      "l_t2_b2 :  [ -4.34144653e-04  -4.39640155e-06   1.00000000e+00]\n",
      "l_t1_b1 :  [ -5.84259778e-03   1.59961609e-04   1.00000000e+00]\n",
      "l_u_t1 :  [ -4.54450511e-05  -3.07064982e-03   1.00000000e+00]\n",
      "~t1 is :  [  2.30042665e+03   2.91618077e+02   1.00000000e+00]\n",
      "V :  [  1.72766771e+03   5.68515633e+04   1.00000000e+00]\n"
     ]
    }
   ],
   "source": [
    "#Find line l through h_p1 and h_p2\n",
    "l = np.cross(h_p2_,h_p1_)\n",
    "l_ = make_homog(l)\n",
    "print \"l : \" , l_\n",
    "\n",
    "\n",
    "#Find line through b1 and b2\n",
    "l_b1_b2 = np.cross(b1_,b2_)\n",
    "l_b1_b2 = make_homog(l_b1_b2)\n",
    "print \"l_b1_b2 : \" , l_b1_b2\n",
    "\n",
    "# Find u by the intersection of l_b1_b2 and l_\n",
    "u_inf = np.cross(l_b1_b2,l_)\n",
    "u_inf_ = make_homog(u_inf)\n",
    "print \"U at infinity is : \" , u_inf_\n",
    "\n",
    "\n",
    "#Find line through t2 and b2\n",
    "l_t2_b2 = np.cross(t2_,b2_)\n",
    "l_t2_b2 = make_homog(l_t2_b2)\n",
    "print \"l_t2_b2 : \" , l_t2_b2\n",
    "\n",
    "#Find line through t1 and b1\n",
    "l_t1_b1 = np.cross(t1_,b1_)\n",
    "l_t1_b1 = make_homog(l_t1_b1)\n",
    "print \"l_t1_b1 : \" , l_t1_b1\n",
    "\n",
    "#Find line through u and t1\n",
    "l_u_t1 = np.cross(t1_,u_inf_)\n",
    "l_u_t1 = make_homog(l_u_t1)\n",
    "print \"l_u_t1 : \" , l_u_t1\n",
    "\n",
    "# Find tilda_t1 by the intersection of l_u_t1 and l_v_b2\n",
    "tilda_t1 = np.cross(l_u_t1,l_t2_b2)\n",
    "tilda_t1_ = make_homog(tilda_t1)\n",
    "print \"~t1 is : \" , tilda_t1_\n",
    "\n",
    "# Find v by the intersection of l_t1_b1 and l_t2_b2\n",
    "v = np.cross(l_t1_b1,l_t2_b2)\n",
    "v_ = make_homog(v)\n",
    "print \"V : \" , v_\n"
   ]
  },
  {
   "cell_type": "code",
   "execution_count": 101,
   "metadata": {
    "collapsed": false
   },
   "outputs": [
    {
     "name": "stderr",
     "output_type": "stream",
     "text": [
      "/home/anand/anaconda/lib/python2.7/site-packages/matplotlib/collections.py:590: FutureWarning: elementwise comparison failed; returning scalar instead, but in the future will perform elementwise comparison\n",
      "  if self._edgecolors == str('face'):\n"
     ]
    }
   ],
   "source": [
    "plt.imshow(img_data)\n",
    "plt.scatter(tilda_t1_[0],tilda_t1_[1])\n",
    "plt.show()"
   ]
  },
  {
   "cell_type": "code",
   "execution_count": 109,
   "metadata": {
    "collapsed": false
   },
   "outputs": [
    {
     "name": "stdout",
     "output_type": "stream",
     "text": [
      "V :  [  5.50393851e+04   1.00000000e+00]\n",
      "H :  [[1, 55039.385114069162], [0, 1]]\n",
      "T2 :  [  1.10078770e+05   1.00000000e+00]\n",
      "Ratio of distance d1/d2 =  3.93798491043\n",
      "Length of 5-7 in cm :  31.7421226447 cm\n"
     ]
    }
   ],
   "source": [
    "# Represent points by their distance from b2\n",
    "\n",
    "b2_dist = distance_from_b2(b2_)\n",
    "tilda_t1_dist = distance_from_b2(tilda_t1_)\n",
    "t2_dist = distance_from_b2(t2_)\n",
    "v_dist = distance_from_b2(v_)\n",
    "print \"V : \", v_dist\n",
    "\n",
    "H = [[1,v_dist[0]],[0,1]]\n",
    "print \"H : \" , H\n",
    "\n",
    "T2 = np.dot(H,v_dist)\n",
    "print \"T2 : \" , T2\n",
    "\n",
    "# Ratio of distance\n",
    "d1_d2 = (tilda_t1_dist[0]*(v_dist[0] - t2_dist[0]))/(t2_dist[0]*(v_dist[0] - tilda_t1_dist[0]))\n",
    "print \"Ratio of distance d1/d2 = \" , d1_d2\n",
    "\n",
    "calculated_dist = 125/d1_d2\n",
    "\n",
    "print \"Length of 5-7 in cm : \" , calculated_dist , \"cm\"\n",
    "\n",
    "# plt.imshow(img_data)\n",
    "# plt.scatter(v_dist[0],v_dist[1])\n",
    "# plt.show()"
   ]
  },
  {
   "cell_type": "code",
   "execution_count": 111,
   "metadata": {
    "collapsed": false
   },
   "outputs": [
    {
     "name": "stdout",
     "output_type": "stream",
     "text": [
      "Error :  0.957877355255 cm\n"
     ]
    }
   ],
   "source": [
    "correct_distance = 32.7\n",
    "print \"Error : \" , correct_distance - calculated_dist , \"cm\""
   ]
  },
  {
   "cell_type": "code",
   "execution_count": 113,
   "metadata": {
    "collapsed": false
   },
   "outputs": [
    {
     "name": "stdout",
     "output_type": "stream",
     "text": [
      "The error can be because of not having sub-pixel accuracy and approximation.\n"
     ]
    }
   ],
   "source": [
    "print \"The error can be because of not having sub-pixel accuracy and approximation.\""
   ]
  }
 ],
 "metadata": {
  "kernelspec": {
   "display_name": "Python 2",
   "language": "python",
   "name": "python2"
  },
  "language_info": {
   "codemirror_mode": {
    "name": "ipython",
    "version": 2
   },
   "file_extension": ".py",
   "mimetype": "text/x-python",
   "name": "python",
   "nbconvert_exporter": "python",
   "pygments_lexer": "ipython2",
   "version": "2.7.11"
  }
 },
 "nbformat": 4,
 "nbformat_minor": 0
}
