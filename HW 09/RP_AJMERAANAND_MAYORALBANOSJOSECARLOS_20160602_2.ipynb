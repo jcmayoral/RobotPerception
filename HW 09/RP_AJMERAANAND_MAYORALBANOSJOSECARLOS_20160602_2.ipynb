{
 "cells": [
  {
   "cell_type": "code",
   "execution_count": 1,
   "metadata": {
    "collapsed": false
   },
   "outputs": [],
   "source": [
    "import numpy as np\n",
    "from scipy.ndimage import imread\n",
    "import scipy\n",
    "import glob\n",
    "from PIL import Image\n",
    "import random\n",
    "import cv2\n",
    "import matplotlib.pyplot as plt"
   ]
  },
  {
   "cell_type": "code",
   "execution_count": 2,
   "metadata": {
    "collapsed": false
   },
   "outputs": [],
   "source": [
    "def SIFT(img):\n",
    "    sift = cv2.SIFT()\n",
    "    keypoints = sift.detect(img,None)\n",
    "    keypoints, descriptors = sift.compute(img,keypoints)\n",
    "    out = cv2.drawKeypoints(img,keypoints)\n",
    "    return out,keypoints,descriptors\n",
    "\n",
    "\n",
    "def keypoint2Array(kp):\n",
    "    kp1_array_x = []\n",
    "    kp1_array_y = []\n",
    "    \n",
    "    for point in kp1:\n",
    "        kp1_array_x.append(point.pt[0])\n",
    "        kp1_array_y.append(point.pt[1])\n",
    "    \n",
    "    return np.vstack((kp1_array_x, kp1_array_y)).T"
   ]
  },
  {
   "cell_type": "code",
   "execution_count": 3,
   "metadata": {
    "collapsed": true
   },
   "outputs": [],
   "source": [
    "#Taken from http://stackoverflow.com/questions/20259025/module-object-has-no-attribute-drawmatches-opencv-python\n",
    "#Not available for Python\n",
    "\n",
    "def drawMatches(img1, kp1, img2, kp2, matches):\n",
    "    \n",
    "    # Create a new output image that concatenates the two images together\n",
    "    # (a.k.a) a montage\n",
    "    \n",
    "    rows1 = img1.shape[0]\n",
    "    cols1 = img1.shape[1]\n",
    "    rows2 = img2.shape[0]\n",
    "    cols2 = img2.shape[1]\n",
    "\n",
    "    out = np.zeros((max([rows1,rows2]),cols1+cols2,3), dtype='uint8')\n",
    "\n",
    "    # Place the first image to the left\n",
    "    out[:rows1,:cols1] = np.dstack([img1, img1, img1])\n",
    "\n",
    "    # Place the next image to the right of it\n",
    "    out[:rows2,cols1:] = np.dstack([img2, img2, img2])\n",
    "\n",
    "    # For each pair of points we have between both images\n",
    "    # draw circles, then connect a line between them\n",
    "    for mat in matches:\n",
    "\n",
    "        # Get the matching keypoints for each of the images\n",
    "        img1_idx = mat.queryIdx\n",
    "        img2_idx = mat.trainIdx\n",
    "\n",
    "        # x - columns\n",
    "        # y - rows\n",
    "        (x1,y1) = kp1[img1_idx].pt\n",
    "        (x2,y2) = kp2[img2_idx].pt\n",
    "\n",
    "        # Draw a small circle at both co-ordinates\n",
    "        # radius 4\n",
    "        # colour blue\n",
    "        # thickness = 1\n",
    "        cv2.circle(out, (int(x1),int(y1)), 4, (255, 0, 0), 1)   \n",
    "        cv2.circle(out, (int(x2)+cols1,int(y2)), 4, (255, 0, 0), 1)\n",
    "\n",
    "        # Draw a line in between the two points\n",
    "        # thickness = 1\n",
    "        # colour blue\n",
    "        cv2.line(out, (int(x1),int(y1)), (int(x2)+cols1,int(y2)), (255, 0, 0), 3)\n",
    "\n",
    "\n",
    "    # Show the image\n",
    "    plt.imshow(out, cmap = 'gray', interpolation = 'bicubic')\n",
    "    plt.show()\n",
    "    \n",
    "    \"\"\"\n",
    "    #Resolution is pretty big\n",
    "    cv2.imshow('Matched Features', out)\n",
    "    cv2.waitKey(0)\n",
    "    cv2.destroyWindow('Matched Features')\n",
    "    \"\"\"\n",
    "\n",
    "    # Also return the image if you'd like a copy\n",
    "    return out"
   ]
  },
  {
   "cell_type": "code",
   "execution_count": 4,
   "metadata": {
    "collapsed": false
   },
   "outputs": [],
   "source": [
    "# 0 means GrayScale\n",
    "img1 = cv2.imread('PGPShelf/20150616_074411.jpg',0)\n",
    "img2 = cv2.imread('PGPShelf/20150616_074444.jpg',0)\n",
    "#cv2.imshow('Original GrayScale', img1)\n",
    "#cv2.waitKey()\n",
    "#plt.imshow(img1, cmap = 'gray', interpolation = 'bicubic')\n",
    "sift1,kp1,desc1 = SIFT(img1)\n",
    "kp_array_1 = keypoint2Array(kp1)\n",
    "\n",
    "sift2,kp2,desc2 = SIFT(img2)\n",
    "kp_array_2 = keypoint2Array(kp2)"
   ]
  },
  {
   "cell_type": "code",
   "execution_count": 36,
   "metadata": {
    "collapsed": false
   },
   "outputs": [],
   "source": [
    "#NORM_L2 means euclidean distance\n",
    "matcher = cv2.BFMatcher(cv2.NORM_L2)\n",
    "matching_points = matcher.knnMatch(desc1,desc2,k=2)\n",
    "#best_matches = sorted(matching_points, key = lambda x:x.distance)\n",
    "#matcher = cv2.BFMatcher(cv2.NORM_L2)\n",
    "#best_matches = matcher.knnMatch(desc1,desc2,k=10)\n",
    "#print len(best_matches)\n",
    "# Sort them in the order of their distance Likelihood ."
   ]
  },
  {
   "cell_type": "code",
   "execution_count": 69,
   "metadata": {
    "collapsed": false
   },
   "outputs": [
    {
     "name": "stdout",
     "output_type": "stream",
     "text": [
      "Total Correspondances 26158\n",
      "Number of good correspondences 35\n"
     ]
    }
   ],
   "source": [
    "#Selecting good matching points\n",
    "good = []\n",
    "print \"Total Correspondances\" , len(matching_points)\n",
    "\n",
    "i=0\n",
    "for m,n in matching_points:\n",
    "    i = i+1\n",
    "    \n",
    "    if abs(m.distance - n.distance) > 150:\n",
    "        good.append(m)\n",
    "        \n",
    "print \"Number of good correspondences\", len(good)"
   ]
  },
  {
   "cell_type": "code",
   "execution_count": 68,
   "metadata": {
    "collapsed": false
   },
   "outputs": [
    {
     "name": "stdout",
     "output_type": "stream",
     "text": [
      "Done\n"
     ]
    }
   ],
   "source": [
    "#Taking correspondences points\n",
    "\n",
    "point1 = []\n",
    "point2 = []\n",
    "\n",
    "for mat in good:\n",
    "        # Get the matching keypoints for each of the images\n",
    "        img1_idx = mat.queryIdx\n",
    "        img2_idx = mat.trainIdx\n",
    "\n",
    "        # x - columns\n",
    "        # y - rows\n",
    "        (x1,y1) = kp1[img1_idx].pt\n",
    "        point1.append([x1,y1])\n",
    "        (x2,y2) = kp2[img2_idx].pt\n",
    "        point2.append([x2,y2])\n",
    "        \n",
    "assert len(point1) == len(point2)\n",
    "\n",
    "point1 = np.array(point1)\n",
    "point2 = np.array(point2)\n",
    "print \"Done\""
   ]
  },
  {
   "cell_type": "code",
   "execution_count": 110,
   "metadata": {
    "collapsed": false
   },
   "outputs": [],
   "source": [
    "img3 = drawMatches(img1,kp1,img2,kp2,good)"
   ]
  },
  {
   "cell_type": "code",
   "execution_count": 60,
   "metadata": {
    "collapsed": false
   },
   "outputs": [
    {
     "name": "stdout",
     "output_type": "stream",
     "text": [
      "[[  1.17083582e+00   1.13130372e-01  -6.86583869e+02]\n",
      " [  0.00000000e+00   1.03386276e+00   8.83346636e+01]\n",
      " [  0.00000000e+00   0.00000000e+00   1.00000000e+00]]\n"
     ]
    }
   ],
   "source": [
    "# Calibration Matrix and \n",
    "# General Projective Camera (According Slide 24  03-CamerasPGP\n",
    "M,mask = cv2.findHomography(point1,point2)\n",
    "#QR Descomposition\n",
    "\n",
    "R,K = scipy.linalg.qr(M)\n",
    "K = K /K[2,2]\n",
    "\n",
    "fix_t = np.eye(3);\n",
    "if K[0,0] < 0:\n",
    "    fix_t[0,0] = -1\n",
    "if K[1,1] < 0:\n",
    "    fix_t[1,1] = -1\n",
    "\n",
    "K = np.dot(K , fix_t)\n",
    "\n",
    "R = np.dot(fix_t , R)\n",
    "\n",
    "if np.linalg.det(R) <0:\n",
    "    R = -R ;\n",
    "\n",
    "    \n",
    "print K\n",
    "s = K[0,1]\n",
    "ax = K[0,0]\n",
    "ay = K[1,1]\n",
    "s = K[0,1]\n",
    "x0 = K[0,2]\n",
    "y0 = K[1,2]\n",
    "\n",
    "T = M[2,:2]"
   ]
  },
  {
   "cell_type": "code",
   "execution_count": 113,
   "metadata": {
    "collapsed": false
   },
   "outputs": [
    {
     "name": "stdout",
     "output_type": "stream",
     "text": [
      "(3264, 2448)\n",
      "2\n"
     ]
    },
    {
     "ename": "error",
     "evalue": "/home/travis/miniconda/conda-bld/work/opencv-2.4.11/modules/calib3d/src/calibration.cpp:3193: error: (-215) ni > 0 && ni == ni1 in function collectCalibrationData\n",
     "output_type": "error",
     "traceback": [
      "\u001b[1;31m---------------------------------------------------------------------------\u001b[0m",
      "\u001b[1;31merror\u001b[0m                                     Traceback (most recent call last)",
      "\u001b[1;32m<ipython-input-113-e5c7014850e5>\u001b[0m in \u001b[0;36m<module>\u001b[1;34m()\u001b[0m\n\u001b[0;32m     40\u001b[0m \u001b[1;32mprint\u001b[0m \u001b[0mimg1\u001b[0m\u001b[1;33m.\u001b[0m\u001b[0mshape\u001b[0m\u001b[1;33m[\u001b[0m\u001b[1;33m:\u001b[0m\u001b[1;33m:\u001b[0m\u001b[1;33m-\u001b[0m\u001b[1;36m1\u001b[0m\u001b[1;33m]\u001b[0m\u001b[1;33m\u001b[0m\u001b[0m\n\u001b[0;32m     41\u001b[0m \u001b[1;32mprint\u001b[0m \u001b[0mlen\u001b[0m\u001b[1;33m(\u001b[0m\u001b[0mobjpoints\u001b[0m\u001b[1;33m)\u001b[0m\u001b[1;33m\u001b[0m\u001b[0m\n\u001b[1;32m---> 42\u001b[1;33m \u001b[0mret\u001b[0m\u001b[1;33m,\u001b[0m \u001b[0mmtx\u001b[0m\u001b[1;33m,\u001b[0m \u001b[0mdist\u001b[0m\u001b[1;33m,\u001b[0m \u001b[0mrvecs\u001b[0m\u001b[1;33m,\u001b[0m \u001b[0mtvecs\u001b[0m \u001b[1;33m=\u001b[0m \u001b[0mcv2\u001b[0m\u001b[1;33m.\u001b[0m\u001b[0mcalibrateCamera\u001b[0m\u001b[1;33m(\u001b[0m\u001b[0mobjpoints\u001b[0m\u001b[1;33m,\u001b[0m \u001b[0mimgpoints\u001b[0m\u001b[1;33m,\u001b[0m \u001b[0mimg1\u001b[0m\u001b[1;33m.\u001b[0m\u001b[0mshape\u001b[0m\u001b[1;33m[\u001b[0m\u001b[1;33m:\u001b[0m\u001b[1;33m:\u001b[0m\u001b[1;33m-\u001b[0m\u001b[1;36m1\u001b[0m\u001b[1;33m]\u001b[0m\u001b[1;33m,\u001b[0m\u001b[0mNone\u001b[0m\u001b[1;33m,\u001b[0m\u001b[0mNone\u001b[0m\u001b[1;33m)\u001b[0m\u001b[1;33m\u001b[0m\u001b[0m\n\u001b[0m",
      "\u001b[1;31merror\u001b[0m: /home/travis/miniconda/conda-bld/work/opencv-2.4.11/modules/calib3d/src/calibration.cpp:3193: error: (-215) ni > 0 && ni == ni1 in function collectCalibrationData\n"
     ]
    }
   ],
   "source": [
    "# prepare object points, like (0,0,0), (1,0,0), (2,0,0) ....,(6,5,0)\n",
    "objp = np.zeros((6*7,3), np.float32)\n",
    "#print \"objp: \",objp\n",
    "objp[:,:2] = np.mgrid[0:7,0:6].T.reshape(-1,2)\n",
    "#print \"objp: \",objp\n",
    "# Arrays to store object points and image points from all the images.\n",
    "objpoints = [] # 3d point in real world space\n",
    "imgpoints = [] # 2d points in image plane.\n",
    "\n",
    "#images = glob.glob('PGPShelf/*.jpg')\n",
    "images=[]\n",
    "images.append('PGPShelf/20150616_074411.jpg')\n",
    "images.append('PGPShelf/20150616_074444.jpg')\n",
    "\n",
    "points = []\n",
    "points.append(point1)\n",
    "points.append(point2)\n",
    "\n",
    "i = 0\n",
    "for fname in images:\n",
    "    img = cv2.imread(fname)\n",
    "    gray = cv2.cvtColor(img,cv2.COLOR_BGR2GRAY)\n",
    "\n",
    "    # Find the chess board corners\n",
    "    ret = True\n",
    "    corners = points[i]\n",
    "    i = i+1\n",
    "    # If found, add object points, image points (after refining them)\n",
    "    if ret == True:\n",
    "        objpoints.append(objp)\n",
    "        #corners2 = cv2.cornerSubPix(img1,corners,(3,3),(-1,-1),criteria)\n",
    "        imgpoints.append(corners)\n",
    "\n",
    "        # Draw and display the corners\n",
    "        #cv2.drawChessboardCorners(img, (7,6), corners,ret)\n",
    "        #cv2.imshow('img',img)\n",
    "        #cv2.waitKey(500)\n",
    "\n",
    "#cv2.destroyAllWindows()\n",
    "print img1.shape[::-1]\n",
    "print len(objpoints)\n",
    "ret, mtx, dist, rvecs, tvecs = cv2.calibrateCamera(objpoints, imgpoints, img1.shape[::-1],None,None) \n"
   ]
  },
  {
   "cell_type": "code",
   "execution_count": 109,
   "metadata": {
    "collapsed": false
   },
   "outputs": [
    {
     "name": "stdout",
     "output_type": "stream",
     "text": [
      "[[-211.53213073  170.13947525]\n",
      " [  97.64076973   47.75142478]\n",
      " [-167.10037518   20.991513  ]\n",
      " [  14.7807308  -105.04989923]\n",
      " [-505.48909684  122.83365345]\n",
      " [ 111.65562906   75.84556569]\n",
      " [ 136.53936052 -134.57455554]\n",
      " [ 308.12024859   36.12945694]\n",
      " [-562.30917247  103.66196759]\n",
      " [-333.95980567  -75.71522578]\n",
      " [  82.30929534 -134.39069223]\n",
      " [-432.73703908 -222.82156519]\n",
      " [ 196.22275757 -133.58293907]\n",
      " [-481.42033658 -235.38462789]\n",
      " [ 222.44487546   98.45740076]\n",
      " [-210.47139173 -171.64265227]\n",
      " [ 135.28554485 -136.06769872]\n",
      " [-486.17169043 -237.53728111]\n",
      " [ 194.98160626  136.73121703]\n",
      " [ 238.82992927  125.37124543]\n",
      " [-197.49487881  -98.79583543]\n",
      " [ 267.09297734  -99.32774134]\n",
      " [ 139.33324394 -132.9545549 ]\n",
      " [ 252.49283193   72.98091468]\n",
      " [-370.00281905 -125.24230345]\n",
      " [-312.67571999 -131.31733217]\n",
      " [ 271.83802183  -97.72122979]\n",
      " [-333.40282872  -89.48390928]\n",
      " [-305.6936364  -130.80061962]\n",
      " [ 501.62617745   64.52397124]\n",
      " [ 130.38925773   95.08541038]\n",
      " [ 160.8758389    89.15763989]\n",
      " [-417.46503751 -141.89020424]\n",
      " [ 368.69735746   42.32615357]\n",
      " [ 368.69735746   42.32615357]]\n"
     ]
    }
   ],
   "source": [
    "K_ = K[:2,:2]\n",
    "\n",
    "p2_cal = np.dot(K_,point1.T).T\n",
    "print point2 - p2_cal"
   ]
  },
  {
   "cell_type": "code",
   "execution_count": 112,
   "metadata": {
    "collapsed": false
   },
   "outputs": [],
   "source": [
    "dist = np.array([0.00000000000000,0.00000000000,0,0])\n",
    "img_undistorted = cv2.undistort(img2,K,dist)\n",
    "#plt.imshow(img1, cmap = 'gray', interpolation = 'bicubic')\n",
    "#plt.show()\n",
    "plt.imshow(img_undistorted, cmap = 'gray', interpolation = 'bicubic')\n",
    "plt.show()"
   ]
  },
  {
   "cell_type": "code",
   "execution_count": 65,
   "metadata": {
    "collapsed": true
   },
   "outputs": [],
   "source": [
    "cv2.cornerSubPix?"
   ]
  }
 ],
 "metadata": {
  "kernelspec": {
   "display_name": "Python 2",
   "language": "python",
   "name": "python2"
  },
  "language_info": {
   "codemirror_mode": {
    "name": "ipython",
    "version": 2
   },
   "file_extension": ".py",
   "mimetype": "text/x-python",
   "name": "python",
   "nbconvert_exporter": "python",
   "pygments_lexer": "ipython2",
   "version": "2.7.11"
  }
 },
 "nbformat": 4,
 "nbformat_minor": 0
}
