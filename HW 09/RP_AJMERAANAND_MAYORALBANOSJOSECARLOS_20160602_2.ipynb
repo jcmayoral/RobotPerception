{
 "cells": [
  {
   "cell_type": "code",
   "execution_count": 55,
   "metadata": {
    "collapsed": true
   },
   "outputs": [],
   "source": [
    "import numpy as np\n",
    "from scipy.ndimage import imread\n",
    "from PIL import Image\n",
    "import random\n",
    "import cv2\n",
    "import matplotlib.pyplot as plt"
   ]
  },
  {
   "cell_type": "code",
   "execution_count": 84,
   "metadata": {
    "collapsed": true
   },
   "outputs": [],
   "source": [
    "# Calculate transformation matrix\n",
    "def make_dlt(x,x_,norm=False):\n",
    "    \n",
    "    \n",
    "    (U, norm_x) = get_simMatrix(x)\n",
    "    (T, norm_x_) = get_simMatrix(x_)\n",
    "        \n",
    "    norm_H = dlt(norm_x, norm_x_)\n",
    "    \n",
    "    if norm:\n",
    "        return norm_H\n",
    "    else:\n",
    "        H = np.dot(np.dot(np.linalg.inv(T), norm_H), U)\n",
    "        return H\n",
    "\n",
    "def dlt(x1, x2):\n",
    "    # Dimension check\n",
    "    assert x1.shape == x2.shape\n",
    "        \n",
    "    # Covnstruct matrix A in equation A.H = 0\n",
    "    zero = np.zeros(3)\n",
    "    A1= zero\n",
    "    A1= np.append(A1, - x2[0][2]*x1[0])\n",
    "    A1= np.append(A1,   x2[0][1]*x1[0])\n",
    "    A1= A1.reshape(1, len(A1))\n",
    "    A2 = x2[0][2]*x1[0]\n",
    "    A2 = np.append(A2,   zero)\n",
    "    A2 = np.append(A2, - x2[0][0]*x1[0])\n",
    "    A2 = A2.reshape(1, len(A2))    \n",
    "    \n",
    "    A = A1\n",
    "    A = np.append(A, A2, axis=0)\n",
    "    \n",
    "    for i in range(1,len(x1)):\n",
    "        \n",
    "        A1= zero\n",
    "        A1= np.append(A1, - x2[i][2]*x1[i])\n",
    "        A1= np.append(A1,   x2[i][1]*x1[i])\n",
    "        A1= A1.reshape(1, len(A1))\n",
    "           \n",
    "        \n",
    "        A2 = x2[i][2]*x1[i]\n",
    "        A2 = np.append(A2,   zero)\n",
    "        A2 = np.append(A2, - x2[i][0]*x1[i])\n",
    "        A2 = A2.reshape(1, len(A2))\n",
    "        \n",
    "        A = np.append(A, A1, axis=0)\n",
    "        A = np.append(A, A2, axis=0)\n",
    "    \n",
    "    A = np.array(A)\n",
    "    U, S, V = np.linalg.svd(A, full_matrices=False)\n",
    "    H = V[np.argmin(S)].reshape(3, 3)\n",
    "    H= H/H[2][2]\n",
    "           \n",
    "    return H\n",
    "\n",
    "def get_simMatrix(X):\n",
    "    centroid = np.mean(X, axis=0)\n",
    "    x_normalized = X - centroid\n",
    "    s = np.sqrt(2)/np.mean(np.sqrt(np.sum(x_normalized**2, axis=1)))\n",
    "    x_normalized = x_normalized * s\n",
    "    x_normalized = make_homog(x_normalized)\n",
    "    sim_matrix= np.array([[s, 0, -s * centroid[0]],[0, s, -s * centroid[1]],[0, 0, 1]])\n",
    "\n",
    "    return (sim_matrix, x_normalized)\n",
    "\n",
    "def make_homog(x):\n",
    "    return np.append(x, np.ones((len(x), 1)), axis=1)\n",
    "\n",
    "\n",
    "def transform_(H,x_):\n",
    "    x1_from_x = np.dot(H, np.transpose(x_[0])).reshape(1, 3)\n",
    "    #maybe_result = []\n",
    "    \n",
    "    for x_row in x_[1:]:\n",
    "        x1_from_x = np.append(x1_from_x, np.dot(H, np.transpose(x_row)).reshape(1, 3), axis=0)\n",
    "    \n",
    "    return x1_from_x"
   ]
  },
  {
   "cell_type": "code",
   "execution_count": 94,
   "metadata": {
    "collapsed": true
   },
   "outputs": [],
   "source": [
    "#Initializing\n",
    "def RANSAC(im1,im2,n=15,k=100,t=1,T=5,bestfit = None,besterr = 1000000):\n",
    "    \n",
    "    for iteration in range(k):\n",
    "        print iteration\n",
    "        \n",
    "        alsoinliers = []\n",
    "        notmaybeinliers=None\n",
    "        #Generate Random Set\n",
    "        maybeinliers=random.sample(range(len(im1)),n)\n",
    "        maybeinliers.sort()\n",
    "        \n",
    "        #NOT Inliers array\n",
    "        notmaybeinliers=[]\n",
    "        \n",
    "        for i in range(len(im1)):\n",
    "            if i not in maybeinliers:\n",
    "                notmaybeinliers.append(i)\n",
    "    \n",
    "        notmaybeinliers.sort()\n",
    "        notmaybeinliers = np.array(notmaybeinliers)\n",
    "        \n",
    "        #needed points\n",
    "        impoints_1 = im1[maybeinliers]\n",
    "        impoints_2 = im2[maybeinliers]\n",
    "\n",
    "        #maybe model        \n",
    "        maybe_model = make_dlt(impoints_1,impoints_2)\n",
    "        maybe_model_ = make_dlt(impoints_2,impoints_1)\n",
    "        \n",
    "        x_homog = make_homog(impoints_1)\n",
    "        x__homog = make_homog(impoints_2)\n",
    "        \n",
    "        maybe_result = transform_(maybe_model,x__homog)\n",
    "        maybe_result_ = transform_(maybe_model_,x_homog)\n",
    "        \n",
    "        a,b = maybe_result.shape\n",
    "        \n",
    "        err = []\n",
    "        \n",
    "        for i in range(a):\n",
    "            x = pow(maybe_result[i][0]-x_homog[i][0],2)\n",
    "            y = pow(maybe_result[i][1]-x_homog[i][1],2)\n",
    "            w = pow(maybe_result[i][0]-x_homog[i][0],2)\n",
    "            \n",
    "            x_ = pow(maybe_result_[i][0]-x__homog[i][0],2)\n",
    "            y_ = pow(maybe_result_[i][1]-x__homog[i][1],2)\n",
    "            w_ = pow(maybe_result_[i][0]-x__homog[i][0],2)\n",
    "            \n",
    "            partial_err = np.sqrt(x+y+w)\n",
    "            partial_err_ = np.sqrt(x_+y_+w_)\n",
    "            \n",
    "            partial_err = np.sqrt(partial_err+partial_err_)\n",
    "            \n",
    "            err.append(partial_err)\n",
    "        \n",
    "        thiserr = 0\n",
    "        err = np.array(err)  \n",
    "        \n",
    "        for j in range(len(err)):\n",
    "            if err[j] < t:\n",
    "                alsoinliers.append(j)\n",
    "                thiserr = thiserr + err[j]\n",
    "        \n",
    "        \n",
    "        #maybe a good mode\n",
    "        if thiserr<besterr:\n",
    "            bestfit = maybe_model\n",
    "            besterror = thiserr\n",
    "        \n",
    "        if len(alsoinliers)>T:\n",
    "            print \"Consensus Found\"\n",
    "            return bestfit,maybeinliers\n",
    "    \n",
    "    assert bestfit is not None\n",
    "        \n",
    "    return bestfit,maybeinliers"
   ]
  },
  {
   "cell_type": "code",
   "execution_count": 79,
   "metadata": {
    "collapsed": false
   },
   "outputs": [],
   "source": [
    "def SIFT(img):\n",
    "    sift = cv2.SIFT()\n",
    "    keypoints = sift.detect(img,None)\n",
    "    keypoints, descriptors = sift.compute(img,keypoints)\n",
    "    out = cv2.drawKeypoints(img,keypoints)\n",
    "    return out,keypoints\n",
    "\n",
    "def keypoint2Array(kp):\n",
    "    kp1_array_x = []\n",
    "    kp1_array_y = []\n",
    "    \n",
    "    for point in kp1:\n",
    "        kp1_array_x.append(point.pt[0])\n",
    "        kp1_array_y.append(point.pt[1])\n",
    "    \n",
    "    return np.vstack((kp1_array_x, kp1_array_y)).T\n"
   ]
  },
  {
   "cell_type": "code",
   "execution_count": 80,
   "metadata": {
    "collapsed": false
   },
   "outputs": [],
   "source": [
    "# 0 means GrayScale\n",
    "img1 = cv2.imread('PGPShelf/20150616_074411.jpg',0)\n",
    "img2 = cv2.imread('PGPShelf/20150616_074444.jpg',0)\n",
    "#cv2.imshow('Original GrayScale', img1)\n",
    "#cv2.waitKey()\n",
    "#plt.imshow(img1, cmap = 'gray', interpolation = 'bicubic')\n",
    "sift1,kp1 = SIFT(img1)\n",
    "kp_array_1 = keypoint2Array(kp1)\n",
    "\n",
    "sift2,kp2 = SIFT(img2)\n",
    "kp_array_2 = keypoint2Array(kp2)"
   ]
  },
  {
   "cell_type": "code",
   "execution_count": 107,
   "metadata": {
    "collapsed": false
   },
   "outputs": [
    {
     "name": "stdout",
     "output_type": "stream",
     "text": [
      "(26158, 2)\n",
      "(26158, 2)\n",
      "0\n",
      "1\n",
      "2\n",
      "3\n",
      "4\n",
      "5\n",
      "6\n",
      "7\n",
      "8\n",
      "9\n",
      "10\n",
      "11\n",
      "12\n",
      "13\n",
      "14\n",
      "15\n",
      "16\n",
      "17\n",
      "18\n",
      "19\n",
      "(1500,)\n"
     ]
    }
   ],
   "source": [
    "print kp_array_1.shape\n",
    "print kp_array_2.shape\n",
    "\n",
    "\n",
    "H_sift,kp_sift = RANSAC(kp_array_1,kp_array_2,n = 1500,k = 20, T =  8000, t = 0.5)\n",
    "\n",
    "kp_sift = np.array((kp_sift))\n",
    "print kp_sift.shape"
   ]
  },
  {
   "cell_type": "code",
   "execution_count": 111,
   "metadata": {
    "collapsed": false
   },
   "outputs": [
    {
     "name": "stdout",
     "output_type": "stream",
     "text": [
      "(1500, 2)\n"
     ]
    }
   ],
   "source": [
    "new_kp_1 = kp_array_1[kp_sift]\n",
    "print new_kp_1.shape\n",
    "new_kp_2 = kp_array_2[kp_sift]\n",
    "\n",
    "plt.imshow(img1, cmap = 'gray', interpolation = 'bicubic')\n",
    "plt.scatter(new_kp_1[:,0],new_kp_1[:,1])\n",
    "plt.show()\n",
    "\n",
    "plt.imshow(img2, cmap = 'gray', interpolation = 'bicubic')\n",
    "plt.scatter(new_kp_2[:,0],new_kp_2[:,1])\n",
    "plt.show()"
   ]
  },
  {
   "cell_type": "code",
   "execution_count": null,
   "metadata": {
    "collapsed": false
   },
   "outputs": [],
   "source": [
    "ret, mtx, dist, rvecs, tvecs = cv2.calibrateCamera(objpoints, imgpoints, gray.shape[::-1],None,None)"
   ]
  },
  {
   "cell_type": "code",
   "execution_count": null,
   "metadata": {
    "collapsed": false
   },
   "outputs": [],
   "source": []
  },
  {
   "cell_type": "code",
   "execution_count": null,
   "metadata": {
    "collapsed": false
   },
   "outputs": [],
   "source": []
  }
 ],
 "metadata": {
  "kernelspec": {
   "display_name": "Python 2",
   "language": "python",
   "name": "python2"
  },
  "language_info": {
   "codemirror_mode": {
    "name": "ipython",
    "version": 2
   },
   "file_extension": ".py",
   "mimetype": "text/x-python",
   "name": "python",
   "nbconvert_exporter": "python",
   "pygments_lexer": "ipython2",
   "version": "2.7.11"
  }
 },
 "nbformat": 4,
 "nbformat_minor": 0
}
