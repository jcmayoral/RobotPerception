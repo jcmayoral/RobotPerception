{
 "cells": [
  {
   "cell_type": "markdown",
   "metadata": {},
   "source": [
    "<h2>Robot Perception</h2>\n",
    "\n",
    "Team:\n",
    "\n",
    "Anand Ajmera and Jose Carlos Mayoral Banos\n",
    "\n",
    "<b>\n",
    "a) Read and understand the table below, parts (a),..,(d)! What happens between steps (c)->(d) and why is this\n",
    "necessary?\n",
    "</b>\n",
    "\n",
    "Between c and d: A line l3 parallel to line l1 is added and the point t1 and t2 are projected on this line to find the ratio of length in the Euclidean geometry.\n",
    "\n",
    "<b>\n",
    "b) How to find a line l going through two points x1,x2 and how to determine the intersection point x of two\n",
    "lines l1 and l2?\n",
    "</b>\n",
    "\n",
    "Stating on this property of homogeneous points\n",
    "\n",
    "$\n",
    "    x^{T} l = 0 \n",
    "$\n",
    "\n",
    "For two points, the line can be found by:\n",
    "\n",
    "$\n",
    "    l = x \\times x'\n",
    "$\n",
    "\n",
    "For the intersection point x of two lines, the equation is:\n",
    "\n",
    "$\n",
    "    x = l \\times l' \n",
    "$\n",
    "\n",
    "<b>\n",
    "c) Then write a MATLAB function for the following objective: Given the vanishing line of the ground plane l\n",
    "and the vertical vanishing point v and the top (t1,t2) and base (b1,b2) points of two line segments as in the\n",
    "table, compute the ratio of lengths of the line segments in the scene.\n",
    "</b>"
   ]
  },
  {
   "cell_type": "code",
   "execution_count": null,
   "metadata": {
    "collapsed": true
   },
   "outputs": [],
   "source": [
    "import numpy as np\n",
    "import cv2\n"
   ]
  },
  {
   "cell_type": "code",
   "execution_count": 22,
   "metadata": {
    "collapsed": true
   },
   "outputs": [],
   "source": [
    "# Given points\n",
    "b1 = [222,43]\n",
    "b2 = [389,168]\n",
    "t1 = [232,311]\n",
    "_t1 = [344,340]\n",
    "t2 = [331,391]\n",
    "b = [247, 713]\n",
    "u_tick = [590,451]\n",
    "u = [767, 451]"
   ]
  },
  {
   "cell_type": "code",
   "execution_count": 9,
   "metadata": {
    "collapsed": true
   },
   "outputs": [],
   "source": [
    "def make_homog(point):\n",
    "    return np.append(point,[1])\n",
    "        "
   ]
  },
  {
   "cell_type": "code",
   "execution_count": 30,
   "metadata": {
    "collapsed": false
   },
   "outputs": [
    {
     "name": "stdout",
     "output_type": "stream",
     "text": [
      "[ -268    10 59066]\n"
     ]
    }
   ],
   "source": [
    "m = make_homog\n",
    "\n",
    "b1_ = m(b1)\n",
    "b2_ = m(b1)\n",
    "t1_ = m(t1)\n",
    "_t1_= m(_t1)\n",
    "t2_ = m(t2)\n",
    "b_ = m(b)\n",
    "u_tick_ = m(u_tick)\n",
    "u_ = m(u)\n",
    "\n",
    "#Find\n",
    "l1 = np.cross(b1_,t1_)\n",
    "\n",
    "\n",
    "#Q1 := Are they x,y coordinates?"
   ]
  }
 ],
 "metadata": {
  "kernelspec": {
   "display_name": "Python 2",
   "language": "python",
   "name": "python2"
  },
  "language_info": {
   "codemirror_mode": {
    "name": "ipython",
    "version": 2
   },
   "file_extension": ".py",
   "mimetype": "text/x-python",
   "name": "python",
   "nbconvert_exporter": "python",
   "pygments_lexer": "ipython2",
   "version": "2.7.11"
  }
 },
 "nbformat": 4,
 "nbformat_minor": 0
}
