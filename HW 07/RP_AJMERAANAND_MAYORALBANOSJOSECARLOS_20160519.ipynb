{
 "cells": [
  {
   "cell_type": "markdown",
   "metadata": {},
   "source": [
    "# Author : Anand Ajmera, Jose Carlos Mayoral Banos\n"
   ]
  },
  {
   "cell_type": "markdown",
   "metadata": {},
   "source": [
    "<b>\n",
    "a) Read and understand the table below, parts (a),..,(d)! What happens between steps (c)->(d) and why is this\n",
    "necessary?\n",
    "</b>\n",
    "\n",
    "Between c and d: A line l3 parallel to line l1 is added and the point t1 and t2 are projected on this line to find the ratio of length in the Euclidean geometry.\n",
    "\n",
    "<b>\n",
    "b) How to find a line l going through two points x1,x2 and how to determine the intersection point x of two\n",
    "lines l1 and l2?\n",
    "</b>\n",
    "\n",
    "Stating on this property of homogeneous points\n",
    "\n",
    "$\n",
    "    x^{T} l = 0 \n",
    "$\n",
    "\n",
    "For two points, the line can be found by:\n",
    "\n",
    "$\n",
    "    l = x \\times x'\n",
    "$\n",
    "\n",
    "For the intersection point x of two lines, the equation is:\n",
    "\n",
    "$\n",
    "    x = l \\times l' \n",
    "$\n",
    "\n",
    "<b>\n",
    "c) Then write a MATLAB function for the following objective: Given the vanishing line of the ground plane l\n",
    "and the vertical vanishing point v and the top (t1,t2) and base (b1,b2) points of two line segments as in the\n",
    "table, compute the ratio of lengths of the line segments in the scene.\n",
    "</b>"
   ]
  },
  {
   "cell_type": "code",
   "execution_count": 68,
   "metadata": {
    "collapsed": true
   },
   "outputs": [],
   "source": [
    "import numpy as np\n",
    "import cv2\n",
    "import scipy.spatial"
   ]
  },
  {
   "cell_type": "code",
   "execution_count": 85,
   "metadata": {
    "collapsed": true
   },
   "outputs": [],
   "source": [
    "# Given points\n",
    "b1 = [222,43]\n",
    "b2 = [389,168]\n",
    "t1 = [232,311]\n",
    "_t1 = [344,340]\n",
    "t2 = [331,391]\n",
    "v = [247, 713]\n",
    "u_tick = [590,451]\n",
    "u = [767, 451]"
   ]
  },
  {
   "cell_type": "code",
   "execution_count": 86,
   "metadata": {
    "collapsed": true
   },
   "outputs": [],
   "source": [
    "m = make_homog\n",
    "\n",
    "b1_ = m(b1)\n",
    "b2_ = m(b2)\n",
    "t1_ = m(t1)\n",
    "_t1_= m(_t1)\n",
    "t2_ = m(t2)\n",
    "v_ = m(v)\n",
    "u_tick_ = m(u_tick)\n",
    "u_ = m(u)\n",
    "\n",
    "# Line l at infinity\n",
    "l_ = [0,0,1]\n"
   ]
  },
  {
   "cell_type": "code",
   "execution_count": 87,
   "metadata": {
    "collapsed": false
   },
   "outputs": [],
   "source": [
    "def make_homog(point):\n",
    "    if(len(point) == 2):\n",
    "        return np.append(point,[1])\n",
    "    elif(len(point) == 3):\n",
    "        point = np.array(point,dtype=float)\n",
    "        point = point/point[-1]\n",
    "        return point\n",
    "    else:\n",
    "        print \"Unknown size of point \" , point\n",
    "        return -1\n",
    "\n",
    "def distance_from_b2(point,second_point = b2_):\n",
    "    return [scipy.spatial.distance.euclidean(point[0:2],second_point[0:2]),1]"
   ]
  },
  {
   "cell_type": "code",
   "execution_count": 88,
   "metadata": {
    "collapsed": false
   },
   "outputs": [
    {
     "name": "stdout",
     "output_type": "stream",
     "text": [
      "l_b1_b2 :  [-0.00607711  0.00811901  1.        ]\n",
      "U at infinity is :  [-0.00811901 -0.00607711  0.        ]\n",
      "l_v_b2 :  [ -2.31068299e-03  -6.02049512e-04   1.00000000e+00]\n",
      "l_u_t1 :  [ 0.00544971 -0.00728081  1.        ]\n",
      "~t1 is :  [ 332.2  386.     1. ]\n"
     ]
    }
   ],
   "source": [
    "#Find line through b1 and b2\n",
    "l_b1_b2 = np.cross(b1_,b2_)\n",
    "l_b1_b2 = make_homog(l_b1_b2)\n",
    "print \"l_b1_b2 : \" , l_b1_b2\n",
    "\n",
    "# Find u by the intersection of l_b1_b2 and l_\n",
    "u_inf = np.cross(l_,l_b1_b2)\n",
    "print \"U at infinity is : \" , u_inf\n",
    "\n",
    "\n",
    "#Find line through v and b2\n",
    "l_v_b2 = np.cross(v_,b2_)\n",
    "l_v_b2 = make_homog(l_v_b2)\n",
    "print \"l_v_b2 : \" , l_v_b2\n",
    "\n",
    "#Find line through u and t1\n",
    "l_u_t1 = np.cross(u_inf,t1_)\n",
    "l_u_t1 = make_homog(l_u_t1)\n",
    "print \"l_u_t1 : \" , l_u_t1\n",
    "\n",
    "# Find tilda_t1 by the intersection of l_u_t1 and l_v_b2\n",
    "tilda_t1 = np.cross(l_u_t1,l_v_b2)\n",
    "tilda_t1 = make_homog(tilda_t1)\n",
    "print \"~t1 is : \" , tilda_t1\n"
   ]
  },
  {
   "cell_type": "code",
   "execution_count": 93,
   "metadata": {
    "collapsed": false
   },
   "outputs": [
    {
     "name": "stdout",
     "output_type": "stream",
     "text": [
      "[563.19534799215091, 1]\n",
      "Ratio of distance d1/d2 =  0.962813830861\n"
     ]
    }
   ],
   "source": [
    "# Represent points by their distance from b2\n",
    "\n",
    "b2_dist = distance_from_b2(b2_)\n",
    "tilda_t1_dist = distance_from_b2(tilda_t1)\n",
    "t2_dist = distance_from_b2(t2_)\n",
    "v_dist = distance_from_b2(v)\n",
    "print v_dist\n",
    "# Ratio of distance\n",
    "d1_d2 = (tilda_t1_dist[0]*(v_dist[0] - t2_dist[0]))/(t2_dist[0]*(v_dist[0] - tilda_t1_dist[0]))\n",
    "print \"Ratio of distance d1/d2 = \" , d1_d2"
   ]
  }
 ],
 "metadata": {
  "kernelspec": {
   "display_name": "Python 2",
   "language": "python",
   "name": "python2"
  },
  "language_info": {
   "codemirror_mode": {
    "name": "ipython",
    "version": 2
   },
   "file_extension": ".py",
   "mimetype": "text/x-python",
   "name": "python",
   "nbconvert_exporter": "python",
   "pygments_lexer": "ipython2",
   "version": "2.7.11"
  }
 },
 "nbformat": 4,
 "nbformat_minor": 0
}
